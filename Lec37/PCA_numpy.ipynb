{
 "cells": [
  {
   "cell_type": "code",
   "execution_count": 1,
   "id": "da6ce069",
   "metadata": {},
   "outputs": [],
   "source": [
    "import numpy as np\n",
    "import matplotlib.pyplot as plt"
   ]
  },
  {
   "cell_type": "code",
   "execution_count": 2,
   "id": "40b3510b",
   "metadata": {},
   "outputs": [],
   "source": [
    "X = np.random.randint(0, 500, 5000).reshape(1000, 5)"
   ]
  },
  {
   "cell_type": "code",
   "execution_count": 3,
   "id": "a295720a",
   "metadata": {},
   "outputs": [
    {
     "data": {
      "text/plain": [
       "(1000, 5)"
      ]
     },
     "execution_count": 3,
     "metadata": {},
     "output_type": "execute_result"
    }
   ],
   "source": [
    "X.shape"
   ]
  },
  {
   "cell_type": "code",
   "execution_count": 4,
   "id": "73028f84",
   "metadata": {},
   "outputs": [],
   "source": [
    "cov_mat = np.cov(X, rowvar = False)"
   ]
  },
  {
   "cell_type": "code",
   "execution_count": 5,
   "id": "f439e92b",
   "metadata": {},
   "outputs": [
    {
     "data": {
      "text/plain": [
       "(5, 5)"
      ]
     },
     "execution_count": 5,
     "metadata": {},
     "output_type": "execute_result"
    }
   ],
   "source": [
    "cov_mat.shape"
   ]
  },
  {
   "cell_type": "code",
   "execution_count": 6,
   "id": "28e53ac9",
   "metadata": {},
   "outputs": [],
   "source": [
    "eigen_value, eigen_vect = np.linalg.eigh(cov_mat)"
   ]
  },
  {
   "cell_type": "code",
   "execution_count": 7,
   "id": "a86f40c5",
   "metadata": {},
   "outputs": [
    {
     "data": {
      "text/plain": [
       "array([19343.69958969, 20200.85778102, 20844.70138112, 21374.25352349,\n",
       "       23300.28189685])"
      ]
     },
     "execution_count": 7,
     "metadata": {},
     "output_type": "execute_result"
    }
   ],
   "source": [
    "eigen_value"
   ]
  },
  {
   "cell_type": "code",
   "execution_count": 8,
   "id": "0215eef6",
   "metadata": {},
   "outputs": [
    {
     "data": {
      "text/plain": [
       "array([[ 0.67852394, -0.04150401,  0.08718039,  0.63789115, -0.35125082],\n",
       "       [ 0.38361298, -0.58148357, -0.43909188, -0.51590115, -0.23614034],\n",
       "       [ 0.27324662,  0.37153836,  0.59093724, -0.5500008 , -0.36822253],\n",
       "       [ 0.42506043,  0.64164511, -0.5064041 , -0.14183883,  0.36201081],\n",
       "       [ 0.37027861, -0.3322726 ,  0.44039298, -0.06573996,  0.74446017]])"
      ]
     },
     "execution_count": 8,
     "metadata": {},
     "output_type": "execute_result"
    }
   ],
   "source": [
    "eigen_vect"
   ]
  },
  {
   "cell_type": "code",
   "execution_count": 9,
   "id": "2dc5d3b4",
   "metadata": {},
   "outputs": [
    {
     "name": "stdout",
     "output_type": "stream",
     "text": [
      "[0 1 2 3 4]\n"
     ]
    }
   ],
   "source": [
    "sorted_index = np.argsort(eigen_value)\n",
    "print(sorted_index)"
   ]
  },
  {
   "cell_type": "code",
   "execution_count": 10,
   "id": "ecfac406",
   "metadata": {},
   "outputs": [
    {
     "name": "stdout",
     "output_type": "stream",
     "text": [
      "[4, 3, 2, 1, 0]\n"
     ]
    }
   ],
   "source": [
    "sorted_index = sorted(sorted_index, reverse = True)\n",
    "print(sorted_index)"
   ]
  },
  {
   "cell_type": "code",
   "execution_count": 11,
   "id": "e996c8fb",
   "metadata": {},
   "outputs": [],
   "source": [
    "eigen_value = eigen_value[sorted_index]\n",
    "eigen_vect = eigen_vect[sorted_index]"
   ]
  },
  {
   "cell_type": "code",
   "execution_count": 14,
   "id": "1362282e",
   "metadata": {},
   "outputs": [
    {
     "data": {
      "text/plain": [
       "array([23300.28189685, 21374.25352349, 20844.70138112, 20200.85778102,\n",
       "       19343.69958969])"
      ]
     },
     "execution_count": 14,
     "metadata": {},
     "output_type": "execute_result"
    }
   ],
   "source": [
    "eigen_value"
   ]
  },
  {
   "cell_type": "code",
   "execution_count": 13,
   "id": "0bcd8ba5",
   "metadata": {},
   "outputs": [
    {
     "data": {
      "text/plain": [
       "array([[ 0.37027861, -0.3322726 ,  0.44039298, -0.06573996,  0.74446017],\n",
       "       [ 0.42506043,  0.64164511, -0.5064041 , -0.14183883,  0.36201081],\n",
       "       [ 0.27324662,  0.37153836,  0.59093724, -0.5500008 , -0.36822253],\n",
       "       [ 0.38361298, -0.58148357, -0.43909188, -0.51590115, -0.23614034],\n",
       "       [ 0.67852394, -0.04150401,  0.08718039,  0.63789115, -0.35125082]])"
      ]
     },
     "execution_count": 13,
     "metadata": {},
     "output_type": "execute_result"
    }
   ],
   "source": [
    "eigen_vect"
   ]
  },
  {
   "cell_type": "code",
   "execution_count": 15,
   "id": "f20a64e6",
   "metadata": {},
   "outputs": [
    {
     "name": "stdout",
     "output_type": "stream",
     "text": [
      "(2, 5)\n"
     ]
    }
   ],
   "source": [
    "n_comp = 2\n",
    "\n",
    "eigen_vect = eigen_vect[:n_comp, :]\n",
    "print(eigen_vect.shape)"
   ]
  },
  {
   "cell_type": "code",
   "execution_count": 16,
   "id": "6965b608",
   "metadata": {},
   "outputs": [],
   "source": [
    "X_pca = np.dot(eigen_vect, X.T)"
   ]
  },
  {
   "cell_type": "code",
   "execution_count": 18,
   "id": "5b84573a",
   "metadata": {},
   "outputs": [],
   "source": [
    "X_pca = X_pca.T"
   ]
  },
  {
   "cell_type": "code",
   "execution_count": 19,
   "id": "9eaed312",
   "metadata": {},
   "outputs": [
    {
     "data": {
      "text/plain": [
       "(1000, 2)"
      ]
     },
     "execution_count": 19,
     "metadata": {},
     "output_type": "execute_result"
    }
   ],
   "source": [
    "X_pca.shape"
   ]
  },
  {
   "cell_type": "code",
   "execution_count": null,
   "id": "f96dff6e",
   "metadata": {},
   "outputs": [],
   "source": []
  }
 ],
 "metadata": {
  "kernelspec": {
   "display_name": "Python 3 (ipykernel)",
   "language": "python",
   "name": "python3"
  },
  "language_info": {
   "codemirror_mode": {
    "name": "ipython",
    "version": 3
   },
   "file_extension": ".py",
   "mimetype": "text/x-python",
   "name": "python",
   "nbconvert_exporter": "python",
   "pygments_lexer": "ipython3",
   "version": "3.8.10"
  }
 },
 "nbformat": 4,
 "nbformat_minor": 5
}
