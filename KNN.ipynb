{
 "cells": [
  {
   "cell_type": "code",
   "execution_count": 1,
   "id": "2f887c91",
   "metadata": {},
   "outputs": [],
   "source": [
    "import numpy as np \n",
    "import matplotlib.pyplot as plt\n",
    "plt.style.use('dark_background')"
   ]
  },
  {
   "cell_type": "code",
   "execution_count": 2,
   "id": "ecbedecb",
   "metadata": {},
   "outputs": [],
   "source": [
    "X_data = []\n",
    "Y_data = []\n",
    "\n",
    "for i in range(200):\n",
    "    points = np.random.randint(5, 10, 2)\n",
    "    X_data.append(points)\n",
    "    Y_data.append(np.zeros(1))\n",
    "for i in range(200):\n",
    "    points = np.random.randint(12, 17, 2)\n",
    "    X_data.append(points)\n",
    "    Y_data.append(np.ones(1))"
   ]
  },
  {
   "cell_type": "code",
   "execution_count": 3,
   "id": "f686283f",
   "metadata": {},
   "outputs": [],
   "source": [
    "X_data = np.array(X_data)\n",
    "Y_data = np.array(Y_data)"
   ]
  },
  {
   "cell_type": "code",
   "execution_count": 4,
   "id": "d8ed215a",
   "metadata": {},
   "outputs": [
    {
     "data": {
      "text/plain": [
       "((400, 2), (400, 1))"
      ]
     },
     "execution_count": 4,
     "metadata": {},
     "output_type": "execute_result"
    }
   ],
   "source": [
    "X_data.shape, Y_data.shape"
   ]
  },
  {
   "cell_type": "code",
   "execution_count": 5,
   "id": "9fcbc9ab",
   "metadata": {},
   "outputs": [
    {
     "data": {
      "text/plain": [
       "<matplotlib.collections.PathCollection at 0x2030164dc40>"
      ]
     },
     "execution_count": 5,
     "metadata": {},
     "output_type": "execute_result"
    },
    {
     "data": {
      "image/png": "[encoded data removed]",
      "text/plain": [
       "<Figure size 640x480 with 1 Axes>"
      ]
     },
     "metadata": {},
     "output_type": "display_data"
    }
   ],
   "source": [
    "plt.scatter(X_data[:, 0], X_data[:, 1], c = Y_data)"
   ]
  },
  {
   "cell_type": "code",
   "execution_count": 6,
   "id": "c66823f3",
   "metadata": {},
   "outputs": [],
   "source": [
    "# np.random.shuffle\n",
    "from sklearn.utils import shuffle\n",
    "from sklearn.model_selection import train_test_split"
   ]
  },
  {
   "cell_type": "code",
   "execution_count": 7,
   "id": "e5a9e5ec",
   "metadata": {},
   "outputs": [],
   "source": [
    "X_data, Y_data = shuffle(X_data, Y_data, random_state = 52642)"
   ]
  },
  {
   "cell_type": "code",
   "execution_count": 8,
   "id": "9c429609",
   "metadata": {},
   "outputs": [],
   "source": [
    "split = 0.8\n",
    "train_X, test_X, train_Y, test_Y = train_test_split(X_data, Y_data, test_size = 0.2)"
   ]
  },
  {
   "cell_type": "code",
   "execution_count": 9,
   "id": "0b42357c",
   "metadata": {},
   "outputs": [
    {
     "name": "stdout",
     "output_type": "stream",
     "text": [
      "(320, 2) (80, 2) (320, 1) (80, 1)\n"
     ]
    }
   ],
   "source": [
    "print(train_X.shape, test_X.shape, train_Y.shape, test_Y.shape)"
   ]
  },
  {
   "cell_type": "code",
   "execution_count": 10,
   "id": "a2615d30",
   "metadata": {},
   "outputs": [],
   "source": [
    "class KNN:\n",
    "    \n",
    "    def __init__(self, k, X, Y):\n",
    "        self.k = k\n",
    "        self.X = X\n",
    "        self.Y = Y\n",
    "        \n",
    "    def distance_formula(self, p1, p2):\n",
    "        return ((p1[0] - p2[0])**2 + (p1[1] - p2[1])**2)**0.5\n",
    "    \n",
    "    def predict(self, test_point):\n",
    "        distance = []\n",
    "        \n",
    "        for i in range(self.X.shape[0]):\n",
    "            distance.append((self.distance_formula(test_point, self.X[i]), i))\n",
    "            \n",
    "        distance = sorted(distance, key = lambda x: x[0])\n",
    "        k_distance = distance[:self.k]\n",
    "        \n",
    "        classes = []\n",
    "        \n",
    "        for _, i in k_distance:\n",
    "            classes.append(self.Y[i])\n",
    "        \n",
    "        type_class, class_count = np.unique(classes, return_counts = True)\n",
    "        \n",
    "        max_class = np.argmax(class_count)\n",
    "        \n",
    "        print(f'Predicted Class: {type_class[max_class]}, with Probability of: {class_count[max_class]/np.sum(class_count)}')\n",
    "        \n",
    "        return type_class[max_class]"
   ]
  },
  {
   "cell_type": "code",
   "execution_count": 11,
   "id": "48805073",
   "metadata": {},
   "outputs": [],
   "source": [
    "# a = np.array([1,2,1,0,21,0,5,5,1,2,3,1,1,2,1,1,23,3,1,1,1,1,2])\n",
    "# print(np.unique(a, return_counts=True))"
   ]
  },
  {
   "cell_type": "code",
   "execution_count": 12,
   "id": "3ee6eec6",
   "metadata": {},
   "outputs": [],
   "source": [
    "knn_classifier = KNN(5, train_X, train_Y)"
   ]
  },
  {
   "cell_type": "code",
   "execution_count": 19,
   "id": "2b6ca59f",
   "metadata": {},
   "outputs": [
    {
     "name": "stdout",
     "output_type": "stream",
     "text": [
      "Predicted Class: 1.0, with Probability of: 1.0\n"
     ]
    },
    {
     "data": {
      "text/plain": [
       "1.0"
      ]
     },
     "execution_count": 19,
     "metadata": {},
     "output_type": "execute_result"
    }
   ],
   "source": [
    "knn_classifier.predict([10.5, 10.5])"
   ]
  },
  {
   "cell_type": "code",
   "execution_count": 14,
   "id": "e10fe58c",
   "metadata": {},
   "outputs": [
    {
     "name": "stdout",
     "output_type": "stream",
     "text": [
      "Predicted Class: 1.0, with Probability of: 1.0\n",
      "Predicted Class: 1.0, with Probability of: 1.0\n",
      "1.0 [1.]\n",
      "Predicted Class: 0.0, with Probability of: 1.0\n",
      "Predicted Class: 0.0, with Probability of: 1.0\n",
      "0.0 [0.]\n",
      "Predicted Class: 1.0, with Probability of: 1.0\n",
      "Predicted Class: 1.0, with Probability of: 1.0\n",
      "1.0 [1.]\n",
      "Predicted Class: 0.0, with Probability of: 1.0\n",
      "Predicted Class: 0.0, with Probability of: 1.0\n",
      "0.0 [0.]\n",
      "Predicted Class: 0.0, with Probability of: 1.0\n",
      "Predicted Class: 0.0, with Probability of: 1.0\n",
      "0.0 [0.]\n",
      "Predicted Class: 0.0, with Probability of: 1.0\n",
      "Predicted Class: 0.0, with Probability of: 1.0\n",
      "0.0 [0.]\n",
      "Predicted Class: 1.0, with Probability of: 1.0\n",
      "Predicted Class: 1.0, with Probability of: 1.0\n",
      "1.0 [1.]\n",
      "Predicted Class: 0.0, with Probability of: 1.0\n",
      "Predicted Class: 0.0, with Probability of: 1.0\n",
      "0.0 [0.]\n",
      "Predicted Class: 0.0, with Probability of: 1.0\n",
      "Predicted Class: 0.0, with Probability of: 1.0\n",
      "0.0 [0.]\n",
      "Predicted Class: 1.0, with Probability of: 1.0\n",
      "Predicted Class: 1.0, with Probability of: 1.0\n",
      "1.0 [1.]\n",
      "Predicted Class: 0.0, with Probability of: 1.0\n",
      "Predicted Class: 0.0, with Probability of: 1.0\n",
      "0.0 [0.]\n",
      "Predicted Class: 0.0, with Probability of: 1.0\n",
      "Predicted Class: 0.0, with Probability of: 1.0\n",
      "0.0 [0.]\n",
      "Predicted Class: 1.0, with Probability of: 1.0\n",
      "Predicted Class: 1.0, with Probability of: 1.0\n",
      "1.0 [1.]\n",
      "Predicted Class: 1.0, with Probability of: 1.0\n",
      "Predicted Class: 1.0, with Probability of: 1.0\n",
      "1.0 [1.]\n",
      "Predicted Class: 0.0, with Probability of: 1.0\n",
      "Predicted Class: 0.0, with Probability of: 1.0\n",
      "0.0 [0.]\n",
      "Predicted Class: 1.0, with Probability of: 1.0\n",
      "Predicted Class: 1.0, with Probability of: 1.0\n",
      "1.0 [1.]\n",
      "Predicted Class: 0.0, with Probability of: 1.0\n",
      "Predicted Class: 0.0, with Probability of: 1.0\n",
      "0.0 [0.]\n",
      "Predicted Class: 1.0, with Probability of: 1.0\n",
      "Predicted Class: 1.0, with Probability of: 1.0\n",
      "1.0 [1.]\n",
      "Predicted Class: 0.0, with Probability of: 1.0\n",
      "Predicted Class: 0.0, with Probability of: 1.0\n",
      "0.0 [0.]\n",
      "Predicted Class: 1.0, with Probability of: 1.0\n",
      "Predicted Class: 1.0, with Probability of: 1.0\n",
      "1.0 [1.]\n",
      "Predicted Class: 1.0, with Probability of: 1.0\n",
      "Predicted Class: 1.0, with Probability of: 1.0\n",
      "1.0 [1.]\n",
      "Predicted Class: 0.0, with Probability of: 1.0\n",
      "Predicted Class: 0.0, with Probability of: 1.0\n",
      "0.0 [0.]\n",
      "Predicted Class: 0.0, with Probability of: 1.0\n",
      "Predicted Class: 0.0, with Probability of: 1.0\n",
      "0.0 [0.]\n",
      "Predicted Class: 0.0, with Probability of: 1.0\n",
      "Predicted Class: 0.0, with Probability of: 1.0\n",
      "0.0 [0.]\n",
      "Predicted Class: 1.0, with Probability of: 1.0\n",
      "Predicted Class: 1.0, with Probability of: 1.0\n",
      "1.0 [1.]\n",
      "Predicted Class: 0.0, with Probability of: 1.0\n",
      "Predicted Class: 0.0, with Probability of: 1.0\n",
      "0.0 [0.]\n",
      "Predicted Class: 1.0, with Probability of: 1.0\n",
      "Predicted Class: 1.0, with Probability of: 1.0\n",
      "1.0 [1.]\n",
      "Predicted Class: 1.0, with Probability of: 1.0\n",
      "Predicted Class: 1.0, with Probability of: 1.0\n",
      "1.0 [1.]\n",
      "Predicted Class: 1.0, with Probability of: 1.0\n",
      "Predicted Class: 1.0, with Probability of: 1.0\n",
      "1.0 [1.]\n",
      "Predicted Class: 0.0, with Probability of: 1.0\n",
      "Predicted Class: 0.0, with Probability of: 1.0\n",
      "0.0 [0.]\n",
      "Predicted Class: 0.0, with Probability of: 1.0\n",
      "Predicted Class: 0.0, with Probability of: 1.0\n",
      "0.0 [0.]\n",
      "Predicted Class: 1.0, with Probability of: 1.0\n",
      "Predicted Class: 1.0, with Probability of: 1.0\n",
      "1.0 [1.]\n",
      "Predicted Class: 1.0, with Probability of: 1.0\n",
      "Predicted Class: 1.0, with Probability of: 1.0\n",
      "1.0 [1.]\n",
      "Predicted Class: 1.0, with Probability of: 1.0\n",
      "Predicted Class: 1.0, with Probability of: 1.0\n",
      "1.0 [1.]\n",
      "Predicted Class: 1.0, with Probability of: 1.0\n",
      "Predicted Class: 1.0, with Probability of: 1.0\n",
      "1.0 [1.]\n",
      "Predicted Class: 1.0, with Probability of: 1.0\n",
      "Predicted Class: 1.0, with Probability of: 1.0\n",
      "1.0 [1.]\n",
      "Predicted Class: 1.0, with Probability of: 1.0\n",
      "Predicted Class: 1.0, with Probability of: 1.0\n",
      "1.0 [1.]\n",
      "Predicted Class: 0.0, with Probability of: 1.0\n",
      "Predicted Class: 0.0, with Probability of: 1.0\n",
      "0.0 [0.]\n",
      "Predicted Class: 0.0, with Probability of: 1.0\n",
      "Predicted Class: 0.0, with Probability of: 1.0\n",
      "0.0 [0.]\n",
      "Predicted Class: 1.0, with Probability of: 1.0\n",
      "Predicted Class: 1.0, with Probability of: 1.0\n",
      "1.0 [1.]\n",
      "Predicted Class: 0.0, with Probability of: 1.0\n",
      "Predicted Class: 0.0, with Probability of: 1.0\n",
      "0.0 [0.]\n",
      "Predicted Class: 1.0, with Probability of: 1.0\n",
      "Predicted Class: 1.0, with Probability of: 1.0\n",
      "1.0 [1.]\n",
      "Predicted Class: 1.0, with Probability of: 1.0\n",
      "Predicted Class: 1.0, with Probability of: 1.0\n",
      "1.0 [1.]\n",
      "Predicted Class: 0.0, with Probability of: 1.0\n",
      "Predicted Class: 0.0, with Probability of: 1.0\n",
      "0.0 [0.]\n",
      "Predicted Class: 0.0, with Probability of: 1.0\n",
      "Predicted Class: 0.0, with Probability of: 1.0\n",
      "0.0 [0.]\n",
      "Predicted Class: 0.0, with Probability of: 1.0\n",
      "Predicted Class: 0.0, with Probability of: 1.0\n",
      "0.0 [0.]\n",
      "Predicted Class: 1.0, with Probability of: 1.0\n",
      "Predicted Class: 1.0, with Probability of: 1.0\n",
      "1.0 [1.]\n",
      "Predicted Class: 1.0, with Probability of: 1.0\n",
      "Predicted Class: 1.0, with Probability of: 1.0\n",
      "1.0 [1.]\n",
      "Predicted Class: 1.0, with Probability of: 1.0\n",
      "Predicted Class: 1.0, with Probability of: 1.0\n",
      "1.0 [1.]\n",
      "Predicted Class: 0.0, with Probability of: 1.0\n",
      "Predicted Class: 0.0, with Probability of: 1.0\n",
      "0.0 [0.]\n",
      "Predicted Class: 0.0, with Probability of: 1.0\n",
      "Predicted Class: 0.0, with Probability of: 1.0\n",
      "0.0 [0.]\n",
      "Predicted Class: 0.0, with Probability of: 1.0\n",
      "Predicted Class: 0.0, with Probability of: 1.0\n",
      "0.0 [0.]\n",
      "Predicted Class: 1.0, with Probability of: 1.0\n",
      "Predicted Class: 1.0, with Probability of: 1.0\n",
      "1.0 [1.]\n",
      "Predicted Class: 1.0, with Probability of: 1.0\n",
      "Predicted Class: 1.0, with Probability of: 1.0\n",
      "1.0 [1.]\n",
      "Predicted Class: 0.0, with Probability of: 1.0\n",
      "Predicted Class: 0.0, with Probability of: 1.0\n",
      "0.0 [0.]\n",
      "Predicted Class: 1.0, with Probability of: 1.0\n",
      "Predicted Class: 1.0, with Probability of: 1.0\n",
      "1.0 [1.]\n",
      "Predicted Class: 0.0, with Probability of: 1.0\n",
      "Predicted Class: 0.0, with Probability of: 1.0\n",
      "0.0 [0.]\n",
      "Predicted Class: 0.0, with Probability of: 1.0\n",
      "Predicted Class: 0.0, with Probability of: 1.0\n",
      "0.0 [0.]\n",
      "Predicted Class: 0.0, with Probability of: 1.0\n",
      "Predicted Class: 0.0, with Probability of: 1.0\n",
      "0.0 [0.]\n",
      "Predicted Class: 0.0, with Probability of: 1.0\n",
      "Predicted Class: 0.0, with Probability of: 1.0\n",
      "0.0 [0.]\n",
      "Predicted Class: 1.0, with Probability of: 1.0\n",
      "Predicted Class: 1.0, with Probability of: 1.0\n",
      "1.0 [1.]\n",
      "Predicted Class: 0.0, with Probability of: 1.0\n",
      "Predicted Class: 0.0, with Probability of: 1.0\n",
      "0.0 [0.]\n",
      "Predicted Class: 1.0, with Probability of: 1.0\n",
      "Predicted Class: 1.0, with Probability of: 1.0\n",
      "1.0 [1.]\n",
      "Predicted Class: 1.0, with Probability of: 1.0\n",
      "Predicted Class: 1.0, with Probability of: 1.0\n",
      "1.0 [1.]\n",
      "Predicted Class: 1.0, with Probability of: 1.0\n",
      "Predicted Class: 1.0, with Probability of: 1.0\n",
      "1.0 [1.]\n",
      "Predicted Class: 0.0, with Probability of: 1.0\n",
      "Predicted Class: 0.0, with Probability of: 1.0\n",
      "0.0 [0.]\n",
      "Predicted Class: 1.0, with Probability of: 1.0\n",
      "Predicted Class: 1.0, with Probability of: 1.0\n",
      "1.0 [1.]\n",
      "Predicted Class: 0.0, with Probability of: 1.0\n",
      "Predicted Class: 0.0, with Probability of: 1.0\n",
      "0.0 [0.]\n",
      "Predicted Class: 0.0, with Probability of: 1.0\n",
      "Predicted Class: 0.0, with Probability of: 1.0\n",
      "0.0 [0.]\n",
      "Predicted Class: 0.0, with Probability of: 1.0\n",
      "Predicted Class: 0.0, with Probability of: 1.0\n",
      "0.0 [0.]\n",
      "Predicted Class: 1.0, with Probability of: 1.0\n",
      "Predicted Class: 1.0, with Probability of: 1.0\n",
      "1.0 [1.]\n",
      "Predicted Class: 0.0, with Probability of: 1.0\n",
      "Predicted Class: 0.0, with Probability of: 1.0\n",
      "0.0 [0.]\n",
      "Predicted Class: 0.0, with Probability of: 1.0\n",
      "Predicted Class: 0.0, with Probability of: 1.0\n",
      "0.0 [0.]\n",
      "Predicted Class: 0.0, with Probability of: 1.0\n",
      "Predicted Class: 0.0, with Probability of: 1.0\n",
      "0.0 [0.]\n",
      "Predicted Class: 1.0, with Probability of: 1.0\n",
      "Predicted Class: 1.0, with Probability of: 1.0\n",
      "1.0 [1.]\n",
      "Predicted Class: 1.0, with Probability of: 1.0\n",
      "Predicted Class: 1.0, with Probability of: 1.0\n",
      "1.0 [1.]\n",
      "Predicted Class: 0.0, with Probability of: 1.0\n",
      "Predicted Class: 0.0, with Probability of: 1.0\n",
      "0.0 [0.]\n",
      "Predicted Class: 1.0, with Probability of: 1.0\n",
      "Predicted Class: 1.0, with Probability of: 1.0\n",
      "1.0 [1.]\n",
      "Predicted Class: 0.0, with Probability of: 1.0\n",
      "Predicted Class: 0.0, with Probability of: 1.0\n",
      "0.0 [0.]\n",
      "Predicted Class: 1.0, with Probability of: 1.0\n",
      "Predicted Class: 1.0, with Probability of: 1.0\n",
      "1.0 [1.]\n"
     ]
    }
   ],
   "source": [
    "y_pred = []\n",
    "\n",
    "for i in range(test_X.shape[0]):\n",
    "    y_pred.append(knn_classifier.predict(test_X[i]))\n",
    "    print(knn_classifier.predict(test_X[i]), test_Y[i])"
   ]
  },
  {
   "cell_type": "code",
   "execution_count": 17,
   "id": "3850bf40",
   "metadata": {},
   "outputs": [],
   "source": [
    "def accuracy(preds, labels):\n",
    "    corr = 0\n",
    "    for i in range(preds.shape[0]):\n",
    "        if preds[i] == labels[i]:\n",
    "            corr+=1\n",
    "    return corr/preds.shape[0]"
   ]
  },
  {
   "cell_type": "code",
   "execution_count": 18,
   "id": "8f8dbdc3",
   "metadata": {},
   "outputs": [
    {
     "name": "stdout",
     "output_type": "stream",
     "text": [
      "1.0\n"
     ]
    }
   ],
   "source": [
    "print(accuracy(y_pred, test_Y))"
   ]
  },
  {
   "cell_type": "code",
   "execution_count": null,
   "id": "37dc0493",
   "metadata": {},
   "outputs": [],
   "source": []
  }
 ],
 "metadata": {
  "kernelspec": {
   "display_name": "Python 3 (ipykernel)",
   "language": "python",
   "name": "python3"
  },
  "language_info": {
   "codemirror_mode": {
    "name": "ipython",
    "version": 3
   },
   "file_extension": ".py",
   "mimetype": "text/x-python",
   "name": "python",
   "nbconvert_exporter": "python",
   "pygments_lexer": "ipython3",
   "version": "3.8.10"
  }
 },
 "nbformat": 4,
 "nbformat_minor": 5
}
