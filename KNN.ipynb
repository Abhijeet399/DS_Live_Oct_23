{
 "cells": [
  {
   "cell_type": "code",
   "execution_count": 10,
   "id": "03c54817",
   "metadata": {},
   "outputs": [],
   "source": [
    "import numpy as np \n",
    "import matplotlib.pyplot as plt\n",
    "plt.style.use('dark_background')"
   ]
  },
  {
   "cell_type": "code",
   "execution_count": 11,
   "id": "927c3cea",
   "metadata": {},
   "outputs": [],
   "source": [
    "X_data = []\n",
    "Y_data = []\n",
    "\n",
    "for i in range(200):\n",
    "    points = np.random.randint(5, 10, 2)\n",
    "    X_data.append(points)\n",
    "    Y_data.append(np.zeros(1))\n",
    "for i in range(200):\n",
    "    points = np.random.randint(12, 17, 2)\n",
    "    X_data.append(points)\n",
    "    Y_data.append(np.ones(1))"
   ]
  },
  {
   "cell_type": "code",
   "execution_count": 12,
   "id": "74448243",
   "metadata": {},
   "outputs": [],
   "source": [
    "X_data = np.array(X_data)\n",
    "Y_data = np.array(Y_data)"
   ]
  },
  {
   "cell_type": "code",
   "execution_count": 13,
   "id": "d489ade7",
   "metadata": {},
   "outputs": [
    {
     "data": {
      "text/plain": [
       "((400, 2), (400, 1))"
      ]
     },
     "execution_count": 13,
     "metadata": {},
     "output_type": "execute_result"
    }
   ],
   "source": [
    "X_data.shape, Y_data.shape"
   ]
  },
  {
   "cell_type": "code",
   "execution_count": 14,
   "id": "28664bf3",
   "metadata": {},
   "outputs": [
    {
     "data": {
      "text/plain": [
       "<matplotlib.collections.PathCollection at 0x1f9df4cffa0>"
      ]
     },
     "execution_count": 14,
     "metadata": {},
     "output_type": "execute_result"
    },
    {
     "data": {
      "image/png": "[encoded data removed]",
      "text/plain": [
       "<Figure size 640x480 with 1 Axes>"
      ]
     },
     "metadata": {},
     "output_type": "display_data"
    }
   ],
   "source": [
    "plt.scatter(X_data[:, 0], X_data[:, 1], c = Y_data)"
   ]
  },
  {
   "cell_type": "code",
   "execution_count": 24,
   "id": "1e644679",
   "metadata": {},
   "outputs": [],
   "source": [
    "# np.random.shuffle\n",
    "from sklearn.utils import shuffle\n",
    "from sklearn.model_selection import train_test_split"
   ]
  },
  {
   "cell_type": "code",
   "execution_count": 25,
   "id": "fc62ca6a",
   "metadata": {},
   "outputs": [],
   "source": [
    "X_data, Y_data = shuffle(X_data, Y_data, random_state = 52642)"
   ]
  },
  {
   "cell_type": "code",
   "execution_count": 28,
   "id": "a091787c",
   "metadata": {},
   "outputs": [],
   "source": [
    "split = 0.8\n",
    "train_X, test_X, train_Y, test_Y = train_test_split(X_data, Y_data, test_size = 0.2)"
   ]
  },
  {
   "cell_type": "code",
   "execution_count": 29,
   "id": "1088754d",
   "metadata": {},
   "outputs": [
    {
     "name": "stdout",
     "output_type": "stream",
     "text": [
      "(320, 2) (80, 2) (320, 1) (80, 1)\n"
     ]
    }
   ],
   "source": [
    "print(train_X.shape, test_X.shape, train_Y.shape, test_Y.shape)"
   ]
  },
  {
   "cell_type": "code",
   "execution_count": null,
   "id": "2fd384f8",
   "metadata": {},
   "outputs": [],
   "source": [
    "class KNN:\n",
    "    \n",
    "    def __init__(self, k, X, Y):\n",
    "        self.k = k\n",
    "        self.X = X\n",
    "        self.Y = Y\n",
    "        \n",
    "    def distance_formula(self, p1, p2):\n",
    "        return ((p1[0] - p2[0])**2 + (p1[1] - p2[1])**2)**0.5\n",
    "    \n",
    "    def predict(self, test_point):\n",
    "        distance = []\n",
    "        \n",
    "        for i in range(self.X.shape[0]):\n",
    "            distance.append((distance_formula(test_point, self.X[i]), i))\n",
    "            \n",
    "        distance = sorted(distance, key = lambda x: x[0])\n",
    "        k_distance = distance[:self.k]\n",
    "        \n",
    "        "
   ]
  }
 ],
 "metadata": {
  "kernelspec": {
   "display_name": "Python 3 (ipykernel)",
   "language": "python",
   "name": "python3"
  },
  "language_info": {
   "codemirror_mode": {
    "name": "ipython",
    "version": 3
   },
   "file_extension": ".py",
   "mimetype": "text/x-python",
   "name": "python",
   "nbconvert_exporter": "python",
   "pygments_lexer": "ipython3",
   "version": "3.8.10"
  }
 },
 "nbformat": 4,
 "nbformat_minor": 5
}
