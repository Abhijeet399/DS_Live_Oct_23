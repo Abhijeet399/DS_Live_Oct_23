{
  "nbformat": 4,
  "nbformat_minor": 0,
  "metadata": {
    "colab": {
      "provenance": []
    },
    "kernelspec": {
      "name": "python3",
      "display_name": "Python 3"
    },
    "language_info": {
      "name": "python"
    }
  },
  "cells": [
    {
      "cell_type": "code",
      "execution_count": 219,
      "metadata": {
        "id": "ZiXkV1JwBAFc"
      },
      "outputs": [],
      "source": [
        "import pandas as pd\n",
        "import numpy as np\n",
        "import matplotlib.pyplot as plt\n",
        "from sklearn.model_selection import train_test_split"
      ]
    },
    {
      "cell_type": "code",
      "source": [
        "data = pd.read_csv('data1.csv', header = None)\n",
        "label = pd.read_csv('label1.csv', header = None)"
      ],
      "metadata": {
        "id": "S5mKoU64BF_c"
      },
      "execution_count": 220,
      "outputs": []
    },
    {
      "cell_type": "code",
      "source": [
        "print(data.shape, label.shape)"
      ],
      "metadata": {
        "id": "PZisSEVDBc2-",
        "outputId": "716f0ec0-d5de-4a16-fe56-ad6832d748ec",
        "colab": {
          "base_uri": "https://localhost:8080/"
        }
      },
      "execution_count": 221,
      "outputs": [
        {
          "output_type": "stream",
          "name": "stdout",
          "text": [
            "(20000, 20) (20000, 1)\n"
          ]
        }
      ]
    },
    {
      "cell_type": "code",
      "source": [
        "print(pd.DataFrame(data))"
      ],
      "metadata": {
        "id": "5h0pBT-WBuCr",
        "outputId": "d7fd4091-594b-4b27-9aa8-d45e0cd8f633",
        "colab": {
          "base_uri": "https://localhost:8080/"
        }
      },
      "execution_count": 222,
      "outputs": [
        {
          "output_type": "stream",
          "name": "stdout",
          "text": [
            "             0         1         2         3         4         5         6   \\\n",
            "0     -0.446891 -0.013397  0.232645  2.156649  1.652923 -0.210531 -0.662227   \n",
            "1      0.243747 -1.144175 -0.622214 -0.661979 -0.373315  0.520313 -1.307954   \n",
            "2     -1.417799 -0.088833 -0.647181 -1.141497 -1.321100  0.686798 -1.045569   \n",
            "3      0.656784  0.381201 -1.039011  1.285315  0.808324  1.428519 -1.144367   \n",
            "4      1.098520  1.706769 -1.030370  2.001009  2.751551  1.202229 -0.941066   \n",
            "...         ...       ...       ...       ...       ...       ...       ...   \n",
            "19995  0.146324 -0.618555  0.547413  0.851301  0.838880 -1.248402  0.698199   \n",
            "19996 -2.227923 -0.327196  1.258849 -0.945254  3.925262  0.316686 -1.061159   \n",
            "19997 -0.800405  1.477997  0.090057 -0.973997 -0.204970  0.224539  0.302265   \n",
            "19998 -1.217344 -0.785401 -0.413781 -0.335324  0.181671 -1.685733 -0.437981   \n",
            "19999  1.601005 -0.890398 -1.425049  0.887501  0.167205 -0.395042 -0.512554   \n",
            "\n",
            "             7         8         9         10        11        12        13  \\\n",
            "0      0.705144  1.434684 -0.445750 -0.178501 -0.905503 -0.594099 -0.728586   \n",
            "1      1.639481 -2.838816  0.331636  0.100261 -1.173067 -0.079774  2.194899   \n",
            "2     -0.376153 -2.272447 -0.669733 -1.070732  1.091993  0.692293  0.937617   \n",
            "3     -0.609958  0.983676  0.060917  0.471647 -0.594279  2.104027 -1.113597   \n",
            "4      1.965282  2.979131  1.402483 -1.432987  0.400322 -0.839851 -1.580974   \n",
            "...         ...       ...       ...       ...       ...       ...       ...   \n",
            "19995 -0.545033  0.994348 -0.054620  0.581239 -1.842074 -0.552879 -0.102096   \n",
            "19996  1.846706  3.692157  0.698035 -0.184239 -0.546036 -0.457919 -1.030581   \n",
            "19997  0.361146 -1.906636  1.381875  0.034366  1.690199 -0.901569  2.183842   \n",
            "19998 -1.176626 -1.434436 -0.880986  2.117703 -2.136842 -1.185261  1.547704   \n",
            "19999  0.050777 -0.034945 -0.289219  0.639189  0.981751 -0.110296 -0.187214   \n",
            "\n",
            "             14        15        16        17        18        19  \n",
            "0     -0.627002 -0.240520  0.131696 -0.945878  1.840922 -0.279024  \n",
            "1      0.242839  0.412164 -0.328714  0.902931 -1.418728 -0.290139  \n",
            "2      0.262142  0.399238  0.614614  1.209465 -1.526386  0.337771  \n",
            "3     -0.188799  1.226253 -1.067763 -0.350275 -0.746426 -1.258696  \n",
            "4     -0.659587  2.292688  0.494188 -1.583187 -2.468254 -0.469648  \n",
            "...         ...       ...       ...       ...       ...       ...  \n",
            "19995  0.307538 -1.267832 -0.165875 -0.717397 -0.808588  0.796346  \n",
            "19996  2.406014 -0.978943 -0.086879 -1.964453 -0.875574  1.535930  \n",
            "19997  0.831008  0.036308  0.516088  0.378670  0.110968 -0.176363  \n",
            "19998  1.174712 -0.429117  0.132068  0.249277 -0.941496  1.661661  \n",
            "19999 -0.226811 -0.547772 -0.006706 -0.023773  1.220809  1.489330  \n",
            "\n",
            "[20000 rows x 20 columns]\n"
          ]
        }
      ]
    },
    {
      "cell_type": "code",
      "source": [
        "data = data.values\n",
        "label = label.values"
      ],
      "metadata": {
        "id": "zQtinRioBxj3"
      },
      "execution_count": 223,
      "outputs": []
    },
    {
      "cell_type": "code",
      "source": [
        "print(np.unique(label), np.max(label))"
      ],
      "metadata": {
        "id": "8uatInmEEUZa",
        "outputId": "2ea5ab47-0fc2-48c2-cc9b-8eae4b004a6a",
        "colab": {
          "base_uri": "https://localhost:8080/"
        }
      },
      "execution_count": 224,
      "outputs": [
        {
          "output_type": "stream",
          "name": "stdout",
          "text": [
            "[0 1 2 3 4] 4\n"
          ]
        }
      ]
    },
    {
      "cell_type": "code",
      "source": [
        "one_hot_label = np.eye(np.max(label) + 1)[label]"
      ],
      "metadata": {
        "id": "wHjEjXUSFx7T"
      },
      "execution_count": 225,
      "outputs": []
    },
    {
      "cell_type": "code",
      "source": [
        "one_hot_label"
      ],
      "metadata": {
        "id": "fKan7c57HRqv",
        "outputId": "abbcdabe-42ed-4e53-e91e-9a0693f26ec9",
        "colab": {
          "base_uri": "https://localhost:8080/"
        }
      },
      "execution_count": 226,
      "outputs": [
        {
          "output_type": "execute_result",
          "data": {
            "text/plain": [
              "array([[[0., 0., 0., 1., 0.]],\n",
              "\n",
              "       [[0., 0., 1., 0., 0.]],\n",
              "\n",
              "       [[0., 0., 1., 0., 0.]],\n",
              "\n",
              "       ...,\n",
              "\n",
              "       [[0., 0., 1., 0., 0.]],\n",
              "\n",
              "       [[0., 0., 1., 0., 0.]],\n",
              "\n",
              "       [[1., 0., 0., 0., 0.]]])"
            ]
          },
          "metadata": {},
          "execution_count": 226
        }
      ]
    },
    {
      "cell_type": "code",
      "source": [
        "one_hot_label.shape"
      ],
      "metadata": {
        "id": "tug-M_iQHTMD",
        "outputId": "ffcb3c40-9493-4c99-e1e5-ec3b90e184d9",
        "colab": {
          "base_uri": "https://localhost:8080/"
        }
      },
      "execution_count": 227,
      "outputs": [
        {
          "output_type": "execute_result",
          "data": {
            "text/plain": [
              "(20000, 1, 5)"
            ]
          },
          "metadata": {},
          "execution_count": 227
        }
      ]
    },
    {
      "cell_type": "code",
      "source": [
        "one_hot_label = one_hot_label.reshape(20000, 5)"
      ],
      "metadata": {
        "id": "4xSwl1j6Hg9U"
      },
      "execution_count": 228,
      "outputs": []
    },
    {
      "cell_type": "code",
      "source": [
        "one_hot_label.shape"
      ],
      "metadata": {
        "id": "S0cojtLCSX0c",
        "outputId": "c5c6c007-5b22-4559-8c82-01099b22445b",
        "colab": {
          "base_uri": "https://localhost:8080/"
        }
      },
      "execution_count": 229,
      "outputs": [
        {
          "output_type": "execute_result",
          "data": {
            "text/plain": [
              "(20000, 5)"
            ]
          },
          "metadata": {},
          "execution_count": 229
        }
      ]
    },
    {
      "cell_type": "code",
      "source": [
        "one_hot_label[0].shape"
      ],
      "metadata": {
        "id": "I5MjRRbYSY9C",
        "outputId": "172f08a2-7ae4-45b2-dede-e2278fe5bc7d",
        "colab": {
          "base_uri": "https://localhost:8080/"
        }
      },
      "execution_count": 230,
      "outputs": [
        {
          "output_type": "execute_result",
          "data": {
            "text/plain": [
              "(5,)"
            ]
          },
          "metadata": {},
          "execution_count": 230
        }
      ]
    },
    {
      "cell_type": "code",
      "source": [
        "train_data, train_data_dash = train_test_split(data, train_size = 0.8, shuffle = False)\n",
        "train_label, train_label_dash = train_test_split(one_hot_label, train_size = 0.8, shuffle = False)"
      ],
      "metadata": {
        "id": "ZyduL2qAVBml"
      },
      "execution_count": 231,
      "outputs": []
    },
    {
      "cell_type": "code",
      "source": [
        "valid_data, test_data = train_test_split(train_data_dash, train_size = 0.5, shuffle = False)\n",
        "valid_label, test_label = train_test_split(train_label_dash, train_size = 0.5, shuffle = False)"
      ],
      "metadata": {
        "id": "-LpSVCGcWjyn"
      },
      "execution_count": 232,
      "outputs": []
    },
    {
      "cell_type": "code",
      "source": [
        "print(train_data.shape, train_label.shape, test_data.shape, test_label.shape, valid_data.shape, valid_label.shape)"
      ],
      "metadata": {
        "id": "neyeoIgqYSsj",
        "outputId": "29661599-bc42-42d4-ef46-aceb1fafdd7c",
        "colab": {
          "base_uri": "https://localhost:8080/"
        }
      },
      "execution_count": 233,
      "outputs": [
        {
          "output_type": "stream",
          "name": "stdout",
          "text": [
            "(16000, 20) (16000, 5) (2000, 20) (2000, 5) (2000, 20) (2000, 5)\n"
          ]
        }
      ]
    },
    {
      "cell_type": "code",
      "source": [
        "hidden_neurons = 10"
      ],
      "metadata": {
        "id": "aAP9th8OYfUc"
      },
      "execution_count": 234,
      "outputs": []
    },
    {
      "cell_type": "code",
      "source": [
        "w1 = np.random.normal(0, 1, (20, hidden_neurons))\n",
        "w2 = np.random.normal(-1, 1, (hidden_neurons, 5))"
      ],
      "metadata": {
        "id": "4-2zRWwXZ9wp"
      },
      "execution_count": 235,
      "outputs": []
    },
    {
      "cell_type": "code",
      "source": [
        "b1 = np.zeros(hidden_neurons)\n",
        "b2 = np.zeros(5)"
      ],
      "metadata": {
        "id": "aO8AeKWabMP_"
      },
      "execution_count": 236,
      "outputs": []
    },
    {
      "cell_type": "code",
      "source": [
        "def activation_function(data, choice):\n",
        "    if choice == 0:\n",
        "       return np.tanh(data)\n",
        "    else:\n",
        "      numerator = np.exp(data)\n",
        "      return numerator/np.sum(numerator, axis = 1, keepdims=True)"
      ],
      "metadata": {
        "id": "bkceuQsNb-Gi"
      },
      "execution_count": 237,
      "outputs": []
    },
    {
      "cell_type": "code",
      "source": [
        "lr_rate = 0.003\n",
        "batch = 1000\n",
        "epochs = 100"
      ],
      "metadata": {
        "id": "KuOxjDSadMG2"
      },
      "execution_count": 238,
      "outputs": []
    },
    {
      "cell_type": "code",
      "source": [
        "def cost_func(label, pred):\n",
        "    return -(label * np.log(pred))"
      ],
      "metadata": {
        "id": "mV6DaNs9evMy"
      },
      "execution_count": 239,
      "outputs": []
    },
    {
      "cell_type": "code",
      "source": [
        "def forward_prop(data):\n",
        "    a0 = data\n",
        "    z1 = np.dot(a0, w1) + b1\n",
        "    a1 = activation_function(z1, 0)\n",
        "    z2 = np.dot(a1, w2) + b2\n",
        "    a2 = activation_function(z2, 1)\n",
        "    return a0, z1, a1, z2, a2"
      ],
      "metadata": {
        "id": "auTpTajWne5Z"
      },
      "execution_count": 240,
      "outputs": []
    },
    {
      "cell_type": "code",
      "source": [
        "def accuracy(label, pred, size):\n",
        "    pred_label = np.argmax(pred, axis = 1)\n",
        "    actual_label = np.argmax(label, axis = 1)\n",
        "    compare = np.equal(pred_label, actual_label)\n",
        "    count = np.sum(compare)\n",
        "    return count/size"
      ],
      "metadata": {
        "id": "6s6gG0IT1ggx"
      },
      "execution_count": 241,
      "outputs": []
    },
    {
      "cell_type": "code",
      "source": [
        "for epoch in range(epochs):\n",
        "    for iteration in range(int(train_data.shape[0]/batch)):\n",
        "        a0, z1, a1, z2, a2 = forward_prop(train_data[iteration * batch : (iteration + 1) * batch, :])\n",
        "        pred = a2\n",
        "        grount_truth = train_label[iteration * batch : (iteration + 1) * batch, :]\n",
        "        del2 = (pred - grount_truth)\n",
        "        del1 = np.dot(del2, w2.T) * (1 - a1**2)\n",
        "        dJdw2 = np.dot(a1.T, del2)\n",
        "        dJdw1 = np.dot(a0.T, del1)\n",
        "        dJdb2 = np.sum(del2, axis = 0)\n",
        "        dJdb1 = np.sum(del1, axis = 0)\n",
        "        w2 = w2 - lr_rate * dJdw2\n",
        "        w1 = w1 - lr_rate * dJdw1\n",
        "        b2 = b2 - lr_rate * dJdb2\n",
        "        b1 = b1 - lr_rate * dJdb1\n",
        "\n",
        "    a0, z1, a1, z2, a2 = forward_prop(train_data)\n",
        "    print(f'Cost after epoch: {epoch}: {np.sum(cost_func(train_label, a2))/16000}')\n",
        "    print(f'Accuracy after epoch: {epoch}: {accuracy(train_label, a2, 16000)}')\n",
        "\n",
        "    a0, z1, a1, z2, a2 = forward_prop(valid_data)\n",
        "    print(f'VALIDATION Cost after epoch: {epoch}: {np.sum(cost_func(valid_label, a2))/2000}')\n",
        "    print(f'VALIDATION Accuracy after epoch: {epoch}: {accuracy(valid_label, a2, 2000)}')"
      ],
      "metadata": {
        "id": "HIbkNUs6oj2E",
        "outputId": "9f951032-5a8d-4820-c09d-4507aef7c433",
        "colab": {
          "base_uri": "https://localhost:8080/"
        }
      },
      "execution_count": 242,
      "outputs": [
        {
          "output_type": "stream",
          "name": "stdout",
          "text": [
            "Cost after epoch: 0: 0.825975687200273\n",
            "Accuracy after epoch: 0: 0.691875\n",
            "VALIDATION Cost after epoch: 0: 0.8588268972392987\n",
            "VALIDATION Accuracy after epoch: 0: 0.683\n",
            "Cost after epoch: 1: 0.6985589248048046\n",
            "Accuracy after epoch: 1: 0.744875\n",
            "VALIDATION Cost after epoch: 1: 0.7347671599712535\n",
            "VALIDATION Accuracy after epoch: 1: 0.738\n",
            "Cost after epoch: 2: 0.6073691483169297\n",
            "Accuracy after epoch: 2: 0.7806875\n",
            "VALIDATION Cost after epoch: 2: 0.6503422290838373\n",
            "VALIDATION Accuracy after epoch: 2: 0.769\n",
            "Cost after epoch: 3: 0.5461462984539435\n",
            "Accuracy after epoch: 3: 0.803125\n",
            "VALIDATION Cost after epoch: 3: 0.5883630109310427\n",
            "VALIDATION Accuracy after epoch: 3: 0.791\n",
            "Cost after epoch: 4: 0.5146790101535567\n",
            "Accuracy after epoch: 4: 0.816125\n",
            "VALIDATION Cost after epoch: 4: 0.552436343742208\n",
            "VALIDATION Accuracy after epoch: 4: 0.81\n",
            "Cost after epoch: 5: 0.4942711826178539\n",
            "Accuracy after epoch: 5: 0.82425\n",
            "VALIDATION Cost after epoch: 5: 0.5257986073530521\n",
            "VALIDATION Accuracy after epoch: 5: 0.8235\n",
            "Cost after epoch: 6: 0.4763279039589179\n",
            "Accuracy after epoch: 6: 0.8315\n",
            "VALIDATION Cost after epoch: 6: 0.5051374812352445\n",
            "VALIDATION Accuracy after epoch: 6: 0.8275\n",
            "Cost after epoch: 7: 0.45963933724929296\n",
            "Accuracy after epoch: 7: 0.8383125\n",
            "VALIDATION Cost after epoch: 7: 0.48658425511023073\n",
            "VALIDATION Accuracy after epoch: 7: 0.8335\n",
            "Cost after epoch: 8: 0.4430484528554824\n",
            "Accuracy after epoch: 8: 0.8444375\n",
            "VALIDATION Cost after epoch: 8: 0.46850267102726595\n",
            "VALIDATION Accuracy after epoch: 8: 0.839\n",
            "Cost after epoch: 9: 0.4271848839176511\n",
            "Accuracy after epoch: 9: 0.850625\n",
            "VALIDATION Cost after epoch: 9: 0.4506240663258199\n",
            "VALIDATION Accuracy after epoch: 9: 0.8405\n",
            "Cost after epoch: 10: 0.41241928693621827\n",
            "Accuracy after epoch: 10: 0.853375\n",
            "VALIDATION Cost after epoch: 10: 0.43559444507392775\n",
            "VALIDATION Accuracy after epoch: 10: 0.8455\n",
            "Cost after epoch: 11: 0.4020459592310136\n",
            "Accuracy after epoch: 11: 0.8568125\n",
            "VALIDATION Cost after epoch: 11: 0.4255583125887188\n",
            "VALIDATION Accuracy after epoch: 11: 0.8485\n",
            "Cost after epoch: 12: 0.3953376167906201\n",
            "Accuracy after epoch: 12: 0.8600625\n",
            "VALIDATION Cost after epoch: 12: 0.42042727546078396\n",
            "VALIDATION Accuracy after epoch: 12: 0.846\n",
            "Cost after epoch: 13: 0.3915830673932121\n",
            "Accuracy after epoch: 13: 0.86\n",
            "VALIDATION Cost after epoch: 13: 0.41840526777859754\n",
            "VALIDATION Accuracy after epoch: 13: 0.8485\n",
            "Cost after epoch: 14: 0.39477700867320226\n",
            "Accuracy after epoch: 14: 0.8621875\n",
            "VALIDATION Cost after epoch: 14: 0.42259364969510094\n",
            "VALIDATION Accuracy after epoch: 14: 0.8475\n",
            "Cost after epoch: 15: 0.4066777116071854\n",
            "Accuracy after epoch: 15: 0.86025\n",
            "VALIDATION Cost after epoch: 15: 0.43345116016579527\n",
            "VALIDATION Accuracy after epoch: 15: 0.8465\n",
            "Cost after epoch: 16: 0.3935198684539445\n",
            "Accuracy after epoch: 16: 0.8651875\n",
            "VALIDATION Cost after epoch: 16: 0.4196265897032795\n",
            "VALIDATION Accuracy after epoch: 16: 0.854\n",
            "Cost after epoch: 17: 0.38059232992056474\n",
            "Accuracy after epoch: 17: 0.8694375\n",
            "VALIDATION Cost after epoch: 17: 0.40792678616871547\n",
            "VALIDATION Accuracy after epoch: 17: 0.8565\n",
            "Cost after epoch: 18: 0.366239230454015\n",
            "Accuracy after epoch: 18: 0.8738125\n",
            "VALIDATION Cost after epoch: 18: 0.3937369631311791\n",
            "VALIDATION Accuracy after epoch: 18: 0.866\n",
            "Cost after epoch: 19: 0.3537567989778553\n",
            "Accuracy after epoch: 19: 0.8795625\n",
            "VALIDATION Cost after epoch: 19: 0.37978560723478766\n",
            "VALIDATION Accuracy after epoch: 19: 0.8725\n",
            "Cost after epoch: 20: 0.34536804230760465\n",
            "Accuracy after epoch: 20: 0.8831875\n",
            "VALIDATION Cost after epoch: 20: 0.37074121287881423\n",
            "VALIDATION Accuracy after epoch: 20: 0.878\n",
            "Cost after epoch: 21: 0.3388636847380344\n",
            "Accuracy after epoch: 21: 0.8848125\n",
            "VALIDATION Cost after epoch: 21: 0.3641895226074128\n",
            "VALIDATION Accuracy after epoch: 21: 0.8835\n",
            "Cost after epoch: 22: 0.3340722494943297\n",
            "Accuracy after epoch: 22: 0.887125\n",
            "VALIDATION Cost after epoch: 22: 0.3600305226398918\n",
            "VALIDATION Accuracy after epoch: 22: 0.8845\n",
            "Cost after epoch: 23: 0.3315052791729669\n",
            "Accuracy after epoch: 23: 0.8875\n",
            "VALIDATION Cost after epoch: 23: 0.35847698822744645\n",
            "VALIDATION Accuracy after epoch: 23: 0.8825\n",
            "Cost after epoch: 24: 0.32683177136569735\n",
            "Accuracy after epoch: 24: 0.889375\n",
            "VALIDATION Cost after epoch: 24: 0.3552729705047631\n",
            "VALIDATION Accuracy after epoch: 24: 0.883\n",
            "Cost after epoch: 25: 0.32353370847470597\n",
            "Accuracy after epoch: 25: 0.89075\n",
            "VALIDATION Cost after epoch: 25: 0.35337936585810215\n",
            "VALIDATION Accuracy after epoch: 25: 0.8845\n",
            "Cost after epoch: 26: 0.3204922096986745\n",
            "Accuracy after epoch: 26: 0.8919375\n",
            "VALIDATION Cost after epoch: 26: 0.3512927790659954\n",
            "VALIDATION Accuracy after epoch: 26: 0.884\n",
            "Cost after epoch: 27: 0.31815565557687286\n",
            "Accuracy after epoch: 27: 0.8934375\n",
            "VALIDATION Cost after epoch: 27: 0.3492400809234081\n",
            "VALIDATION Accuracy after epoch: 27: 0.885\n",
            "Cost after epoch: 28: 0.3163550492516327\n",
            "Accuracy after epoch: 28: 0.893875\n",
            "VALIDATION Cost after epoch: 28: 0.3471127306168546\n",
            "VALIDATION Accuracy after epoch: 28: 0.8865\n",
            "Cost after epoch: 29: 0.3148113089751372\n",
            "Accuracy after epoch: 29: 0.89425\n",
            "VALIDATION Cost after epoch: 29: 0.34481013358632745\n",
            "VALIDATION Accuracy after epoch: 29: 0.887\n",
            "Cost after epoch: 30: 0.31340710152132245\n",
            "Accuracy after epoch: 30: 0.8946875\n",
            "VALIDATION Cost after epoch: 30: 0.3427186036881126\n",
            "VALIDATION Accuracy after epoch: 30: 0.8865\n",
            "Cost after epoch: 31: 0.31207974329593186\n",
            "Accuracy after epoch: 31: 0.895375\n",
            "VALIDATION Cost after epoch: 31: 0.34102963926978874\n",
            "VALIDATION Accuracy after epoch: 31: 0.886\n",
            "Cost after epoch: 32: 0.31082492697198955\n",
            "Accuracy after epoch: 32: 0.895625\n",
            "VALIDATION Cost after epoch: 32: 0.3397999492787118\n",
            "VALIDATION Accuracy after epoch: 32: 0.8855\n",
            "Cost after epoch: 33: 0.30970491411959616\n",
            "Accuracy after epoch: 33: 0.8956875\n",
            "VALIDATION Cost after epoch: 33: 0.3389770409643377\n",
            "VALIDATION Accuracy after epoch: 33: 0.885\n",
            "Cost after epoch: 34: 0.3087336249919651\n",
            "Accuracy after epoch: 34: 0.89625\n",
            "VALIDATION Cost after epoch: 34: 0.3383238559558369\n",
            "VALIDATION Accuracy after epoch: 34: 0.8855\n",
            "Cost after epoch: 35: 0.3079064887186339\n",
            "Accuracy after epoch: 35: 0.8960625\n",
            "VALIDATION Cost after epoch: 35: 0.3377665937687742\n",
            "VALIDATION Accuracy after epoch: 35: 0.884\n",
            "Cost after epoch: 36: 0.30724256601537686\n",
            "Accuracy after epoch: 36: 0.896\n",
            "VALIDATION Cost after epoch: 36: 0.3373131467815833\n",
            "VALIDATION Accuracy after epoch: 36: 0.8845\n",
            "Cost after epoch: 37: 0.3066922893061626\n",
            "Accuracy after epoch: 37: 0.8964375\n",
            "VALIDATION Cost after epoch: 37: 0.3368844767140779\n",
            "VALIDATION Accuracy after epoch: 37: 0.8845\n",
            "Cost after epoch: 38: 0.30620208773435803\n",
            "Accuracy after epoch: 38: 0.8966875\n",
            "VALIDATION Cost after epoch: 38: 0.33642534473454583\n",
            "VALIDATION Accuracy after epoch: 38: 0.885\n",
            "Cost after epoch: 39: 0.305744816954742\n",
            "Accuracy after epoch: 39: 0.89725\n",
            "VALIDATION Cost after epoch: 39: 0.3359195116494727\n",
            "VALIDATION Accuracy after epoch: 39: 0.8855\n",
            "Cost after epoch: 40: 0.3052939027608237\n",
            "Accuracy after epoch: 40: 0.8975\n",
            "VALIDATION Cost after epoch: 40: 0.33533825015813873\n",
            "VALIDATION Accuracy after epoch: 40: 0.886\n",
            "Cost after epoch: 41: 0.30482586853520194\n",
            "Accuracy after epoch: 41: 0.897625\n",
            "VALIDATION Cost after epoch: 41: 0.3346466337387524\n",
            "VALIDATION Accuracy after epoch: 41: 0.8855\n",
            "Cost after epoch: 42: 0.30433545052375305\n",
            "Accuracy after epoch: 42: 0.8981875\n",
            "VALIDATION Cost after epoch: 42: 0.3338411848989046\n",
            "VALIDATION Accuracy after epoch: 42: 0.8865\n",
            "Cost after epoch: 43: 0.3038411548725134\n",
            "Accuracy after epoch: 43: 0.89825\n",
            "VALIDATION Cost after epoch: 43: 0.3329698950883918\n",
            "VALIDATION Accuracy after epoch: 43: 0.8875\n",
            "Cost after epoch: 44: 0.3033673914133814\n",
            "Accuracy after epoch: 44: 0.8980625\n",
            "VALIDATION Cost after epoch: 44: 0.3321094112444533\n",
            "VALIDATION Accuracy after epoch: 44: 0.887\n",
            "Cost after epoch: 45: 0.302916731519766\n",
            "Accuracy after epoch: 45: 0.897875\n",
            "VALIDATION Cost after epoch: 45: 0.3313127890209051\n",
            "VALIDATION Accuracy after epoch: 45: 0.886\n",
            "Cost after epoch: 46: 0.3024769045504148\n",
            "Accuracy after epoch: 46: 0.89825\n",
            "VALIDATION Cost after epoch: 46: 0.3305886338644525\n",
            "VALIDATION Accuracy after epoch: 46: 0.8855\n",
            "Cost after epoch: 47: 0.30204190789843327\n",
            "Accuracy after epoch: 47: 0.898625\n",
            "VALIDATION Cost after epoch: 47: 0.32992069917214123\n",
            "VALIDATION Accuracy after epoch: 47: 0.886\n",
            "Cost after epoch: 48: 0.3016142620336756\n",
            "Accuracy after epoch: 48: 0.898875\n",
            "VALIDATION Cost after epoch: 48: 0.32929036406559253\n",
            "VALIDATION Accuracy after epoch: 48: 0.8855\n",
            "Cost after epoch: 49: 0.3012004468065562\n",
            "Accuracy after epoch: 49: 0.89925\n",
            "VALIDATION Cost after epoch: 49: 0.3286888265774482\n",
            "VALIDATION Accuracy after epoch: 49: 0.886\n",
            "Cost after epoch: 50: 0.3008076301880613\n",
            "Accuracy after epoch: 50: 0.89925\n",
            "VALIDATION Cost after epoch: 50: 0.3281178438934045\n",
            "VALIDATION Accuracy after epoch: 50: 0.8855\n",
            "Cost after epoch: 51: 0.30044164748070584\n",
            "Accuracy after epoch: 51: 0.8994375\n",
            "VALIDATION Cost after epoch: 51: 0.32758444600117714\n",
            "VALIDATION Accuracy after epoch: 51: 0.8855\n",
            "Cost after epoch: 52: 0.3001059623540703\n",
            "Accuracy after epoch: 52: 0.899375\n",
            "VALIDATION Cost after epoch: 52: 0.32709549281695255\n",
            "VALIDATION Accuracy after epoch: 52: 0.885\n",
            "Cost after epoch: 53: 0.29980153523812175\n",
            "Accuracy after epoch: 53: 0.8995\n",
            "VALIDATION Cost after epoch: 53: 0.3266546776267474\n",
            "VALIDATION Accuracy after epoch: 53: 0.8855\n",
            "Cost after epoch: 54: 0.2995273104732123\n",
            "Accuracy after epoch: 54: 0.8995625\n",
            "VALIDATION Cost after epoch: 54: 0.32626208396166884\n",
            "VALIDATION Accuracy after epoch: 54: 0.886\n",
            "Cost after epoch: 55: 0.29928094871056715\n",
            "Accuracy after epoch: 55: 0.8996875\n",
            "VALIDATION Cost after epoch: 55: 0.32591526010208666\n",
            "VALIDATION Accuracy after epoch: 55: 0.8855\n",
            "Cost after epoch: 56: 0.29905950489826316\n",
            "Accuracy after epoch: 56: 0.899875\n",
            "VALIDATION Cost after epoch: 56: 0.3256106310079172\n",
            "VALIDATION Accuracy after epoch: 56: 0.885\n",
            "Cost after epoch: 57: 0.2988599168372816\n",
            "Accuracy after epoch: 57: 0.8999375\n",
            "VALIDATION Cost after epoch: 57: 0.3253445096824305\n",
            "VALIDATION Accuracy after epoch: 57: 0.8855\n",
            "Cost after epoch: 58: 0.2986792991350174\n",
            "Accuracy after epoch: 58: 0.9\n",
            "VALIDATION Cost after epoch: 58: 0.325113538170307\n",
            "VALIDATION Accuracy after epoch: 58: 0.886\n",
            "Cost after epoch: 59: 0.29851508457562403\n",
            "Accuracy after epoch: 59: 0.8996875\n",
            "VALIDATION Cost after epoch: 59: 0.3249147241348179\n",
            "VALIDATION Accuracy after epoch: 59: 0.886\n",
            "Cost after epoch: 60: 0.29836505768917865\n",
            "Accuracy after epoch: 60: 0.899625\n",
            "VALIDATION Cost after epoch: 60: 0.32474531116866634\n",
            "VALIDATION Accuracy after epoch: 60: 0.886\n",
            "Cost after epoch: 61: 0.2982273193629654\n",
            "Accuracy after epoch: 61: 0.8994375\n",
            "VALIDATION Cost after epoch: 61: 0.32460265892073475\n",
            "VALIDATION Accuracy after epoch: 61: 0.8855\n",
            "Cost after epoch: 62: 0.29810021850258694\n",
            "Accuracy after epoch: 62: 0.899375\n",
            "VALIDATION Cost after epoch: 62: 0.3244842103523065\n",
            "VALIDATION Accuracy after epoch: 62: 0.8875\n",
            "Cost after epoch: 63: 0.2979822836976616\n",
            "Accuracy after epoch: 63: 0.899125\n",
            "VALIDATION Cost after epoch: 63: 0.32438753736707415\n",
            "VALIDATION Accuracy after epoch: 63: 0.888\n",
            "Cost after epoch: 64: 0.2978721786387609\n",
            "Accuracy after epoch: 64: 0.899375\n",
            "VALIDATION Cost after epoch: 64: 0.32431041000558786\n",
            "VALIDATION Accuracy after epoch: 64: 0.888\n",
            "Cost after epoch: 65: 0.2977686905039398\n",
            "Accuracy after epoch: 65: 0.8993125\n",
            "VALIDATION Cost after epoch: 65: 0.32425083513069386\n",
            "VALIDATION Accuracy after epoch: 65: 0.888\n",
            "Cost after epoch: 66: 0.29767074717317515\n",
            "Accuracy after epoch: 66: 0.8994375\n",
            "VALIDATION Cost after epoch: 66: 0.32420704216111773\n",
            "VALIDATION Accuracy after epoch: 66: 0.888\n",
            "Cost after epoch: 67: 0.29757745102866295\n",
            "Accuracy after epoch: 67: 0.8994375\n",
            "VALIDATION Cost after epoch: 67: 0.32417742879035427\n",
            "VALIDATION Accuracy after epoch: 67: 0.888\n",
            "Cost after epoch: 68: 0.29748811307077827\n",
            "Accuracy after epoch: 68: 0.8995\n",
            "VALIDATION Cost after epoch: 68: 0.32416049757421744\n",
            "VALIDATION Accuracy after epoch: 68: 0.8875\n",
            "Cost after epoch: 69: 0.2974022693825285\n",
            "Accuracy after epoch: 69: 0.899625\n",
            "VALIDATION Cost after epoch: 69: 0.32415480980390426\n",
            "VALIDATION Accuracy after epoch: 69: 0.8875\n",
            "Cost after epoch: 70: 0.29731966454800846\n",
            "Accuracy after epoch: 70: 0.8995625\n",
            "VALIDATION Cost after epoch: 70: 0.32415896636618624\n",
            "VALIDATION Accuracy after epoch: 70: 0.8885\n",
            "Cost after epoch: 71: 0.2972401968531844\n",
            "Accuracy after epoch: 71: 0.899625\n",
            "VALIDATION Cost after epoch: 71: 0.32417161159717195\n",
            "VALIDATION Accuracy after epoch: 71: 0.889\n",
            "Cost after epoch: 72: 0.2971638364782684\n",
            "Accuracy after epoch: 72: 0.8998125\n",
            "VALIDATION Cost after epoch: 72: 0.32419145310333675\n",
            "VALIDATION Accuracy after epoch: 72: 0.8895\n",
            "Cost after epoch: 73: 0.2970905417663779\n",
            "Accuracy after epoch: 73: 0.899875\n",
            "VALIDATION Cost after epoch: 73: 0.3242172929186411\n",
            "VALIDATION Accuracy after epoch: 73: 0.889\n",
            "Cost after epoch: 74: 0.2970202003907105\n",
            "Accuracy after epoch: 74: 0.8999375\n",
            "VALIDATION Cost after epoch: 74: 0.32424806361444297\n",
            "VALIDATION Accuracy after epoch: 74: 0.889\n",
            "Cost after epoch: 75: 0.2969526100648879\n",
            "Accuracy after epoch: 75: 0.9\n",
            "VALIDATION Cost after epoch: 75: 0.3242828566094829\n",
            "VALIDATION Accuracy after epoch: 75: 0.8885\n",
            "Cost after epoch: 76: 0.2968874953986222\n",
            "Accuracy after epoch: 76: 0.9\n",
            "VALIDATION Cost after epoch: 76: 0.3243209282088382\n",
            "VALIDATION Accuracy after epoch: 76: 0.8885\n",
            "Cost after epoch: 77: 0.296824544692213\n",
            "Accuracy after epoch: 77: 0.90025\n",
            "VALIDATION Cost after epoch: 77: 0.3243616774087472\n",
            "VALIDATION Accuracy after epoch: 77: 0.8885\n",
            "Cost after epoch: 78: 0.29676344837309887\n",
            "Accuracy after epoch: 78: 0.90025\n",
            "VALIDATION Cost after epoch: 78: 0.3244046024337982\n",
            "VALIDATION Accuracy after epoch: 78: 0.8885\n",
            "Cost after epoch: 79: 0.2967039268291438\n",
            "Accuracy after epoch: 79: 0.9003125\n",
            "VALIDATION Cost after epoch: 79: 0.32444925090660814\n",
            "VALIDATION Accuracy after epoch: 79: 0.8885\n",
            "Cost after epoch: 80: 0.2966457435487242\n",
            "Accuracy after epoch: 80: 0.9005\n",
            "VALIDATION Cost after epoch: 80: 0.32449517814642226\n",
            "VALIDATION Accuracy after epoch: 80: 0.889\n",
            "Cost after epoch: 81: 0.2965887055418666\n",
            "Accuracy after epoch: 81: 0.9003125\n",
            "VALIDATION Cost after epoch: 81: 0.3245419222762881\n",
            "VALIDATION Accuracy after epoch: 81: 0.8885\n",
            "Cost after epoch: 82: 0.29653265596038875\n",
            "Accuracy after epoch: 82: 0.900375\n",
            "VALIDATION Cost after epoch: 82: 0.32458899786223117\n",
            "VALIDATION Accuracy after epoch: 82: 0.888\n",
            "Cost after epoch: 83: 0.2964774642806521\n",
            "Accuracy after epoch: 83: 0.90025\n",
            "VALIDATION Cost after epoch: 83: 0.3246359044533307\n",
            "VALIDATION Accuracy after epoch: 83: 0.888\n",
            "Cost after epoch: 84: 0.2964230182014889\n",
            "Accuracy after epoch: 84: 0.90025\n",
            "VALIDATION Cost after epoch: 84: 0.3246821437374411\n",
            "VALIDATION Accuracy after epoch: 84: 0.8885\n",
            "Cost after epoch: 85: 0.2963692192751007\n",
            "Accuracy after epoch: 85: 0.900375\n",
            "VALIDATION Cost after epoch: 85: 0.3247272390563597\n",
            "VALIDATION Accuracy after epoch: 85: 0.889\n",
            "Cost after epoch: 86: 0.29631598202920545\n",
            "Accuracy after epoch: 86: 0.9004375\n",
            "VALIDATION Cost after epoch: 86: 0.32477075290305185\n",
            "VALIDATION Accuracy after epoch: 86: 0.889\n",
            "Cost after epoch: 87: 0.29626323478906463\n",
            "Accuracy after epoch: 87: 0.900375\n",
            "VALIDATION Cost after epoch: 87: 0.3248123005005594\n",
            "VALIDATION Accuracy after epoch: 87: 0.89\n",
            "Cost after epoch: 88: 0.29621092010671685\n",
            "Accuracy after epoch: 88: 0.90025\n",
            "VALIDATION Cost after epoch: 88: 0.3248515595660998\n",
            "VALIDATION Accuracy after epoch: 88: 0.8895\n",
            "Cost after epoch: 89: 0.2961589935757416\n",
            "Accuracy after epoch: 89: 0.900125\n",
            "VALIDATION Cost after epoch: 89: 0.3248882774030991\n",
            "VALIDATION Accuracy after epoch: 89: 0.8895\n",
            "Cost after epoch: 90: 0.29610742115704464\n",
            "Accuracy after epoch: 90: 0.90025\n",
            "VALIDATION Cost after epoch: 90: 0.3249222765698227\n",
            "VALIDATION Accuracy after epoch: 90: 0.8895\n",
            "Cost after epoch: 91: 0.2960561760427513\n",
            "Accuracy after epoch: 91: 0.900375\n",
            "VALIDATION Cost after epoch: 91: 0.3249534597927833\n",
            "VALIDATION Accuracy after epoch: 91: 0.8895\n",
            "Cost after epoch: 92: 0.2960052360073077\n",
            "Accuracy after epoch: 92: 0.900375\n",
            "VALIDATION Cost after epoch: 92: 0.32498181378786745\n",
            "VALIDATION Accuracy after epoch: 92: 0.89\n",
            "Cost after epoch: 93: 0.29595458138485625\n",
            "Accuracy after epoch: 93: 0.90025\n",
            "VALIDATION Cost after epoch: 93: 0.3250074105317748\n",
            "VALIDATION Accuracy after epoch: 93: 0.89\n",
            "Cost after epoch: 94: 0.29590419309310667\n",
            "Accuracy after epoch: 94: 0.9005\n",
            "VALIDATION Cost after epoch: 94: 0.3250304037507051\n",
            "VALIDATION Accuracy after epoch: 94: 0.89\n",
            "Cost after epoch: 95: 0.2958540502047209\n",
            "Accuracy after epoch: 95: 0.9005\n",
            "VALIDATION Cost after epoch: 95: 0.32505101848191204\n",
            "VALIDATION Accuracy after epoch: 95: 0.89\n",
            "Cost after epoch: 96: 0.2958041274350759\n",
            "Accuracy after epoch: 96: 0.900625\n",
            "VALIDATION Cost after epoch: 96: 0.3250695327385674\n",
            "VALIDATION Accuracy after epoch: 96: 0.8905\n",
            "Cost after epoch: 97: 0.29575439383365204\n",
            "Accuracy after epoch: 97: 0.9006875\n",
            "VALIDATION Cost after epoch: 97: 0.32508625215333764\n",
            "VALIDATION Accuracy after epoch: 97: 0.891\n",
            "Cost after epoch: 98: 0.29570481410370136\n",
            "Accuracy after epoch: 98: 0.900625\n",
            "VALIDATION Cost after epoch: 98: 0.3251014800806492\n",
            "VALIDATION Accuracy after epoch: 98: 0.8915\n",
            "Cost after epoch: 99: 0.2956553531179475\n",
            "Accuracy after epoch: 99: 0.900625\n",
            "VALIDATION Cost after epoch: 99: 0.3251154862906137\n",
            "VALIDATION Accuracy after epoch: 99: 0.8915\n"
          ]
        }
      ]
    },
    {
      "cell_type": "code",
      "source": [],
      "metadata": {
        "id": "deshwpR-rznS"
      },
      "execution_count": 242,
      "outputs": []
    }
  ]
}