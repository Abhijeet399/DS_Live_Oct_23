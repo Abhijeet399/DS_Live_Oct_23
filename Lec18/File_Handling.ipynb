{
 "cells": [
  {
   "cell_type": "code",
   "execution_count": 9,
   "id": "d14389dd",
   "metadata": {},
   "outputs": [],
   "source": [
    "file = open('C:/Users/bhatt/OneDrive/Desktop/whisper-main/DS_Live_Oct/Lec18/file.txt', 'r')"
   ]
  },
  {
   "cell_type": "code",
   "execution_count": 10,
   "id": "058a4f99",
   "metadata": {},
   "outputs": [
    {
     "name": "stdout",
     "output_type": "stream",
     "text": [
      "<_io.TextIOWrapper name='C:/Users/bhatt/OneDrive/Desktop/whisper-main/DS_Live_Oct/Lec18/file.txt' mode='r' encoding='cp1252'>\n"
     ]
    }
   ],
   "source": [
    "print(file)"
   ]
  },
  {
   "cell_type": "code",
   "execution_count": 11,
   "id": "8d990121",
   "metadata": {},
   "outputs": [],
   "source": [
    "content = file.read()"
   ]
  },
  {
   "cell_type": "code",
   "execution_count": 12,
   "id": "a0a79b81",
   "metadata": {},
   "outputs": [
    {
     "name": "stdout",
     "output_type": "stream",
     "text": [
      "Good Morning!\n",
      "Hello World\n",
      "My name is Abhijeet.\n"
     ]
    }
   ],
   "source": [
    "print(content)"
   ]
  },
  {
   "cell_type": "code",
   "execution_count": 13,
   "id": "04384ae6",
   "metadata": {},
   "outputs": [
    {
     "name": "stdout",
     "output_type": "stream",
     "text": [
      "\n"
     ]
    }
   ],
   "source": [
    "content = file.read()\n",
    "print(content)"
   ]
  },
  {
   "cell_type": "code",
   "execution_count": 14,
   "id": "e5290c15",
   "metadata": {},
   "outputs": [],
   "source": [
    "file.close()"
   ]
  },
  {
   "cell_type": "code",
   "execution_count": 30,
   "id": "66564067",
   "metadata": {},
   "outputs": [],
   "source": [
    "file = open('C:/Users/bhatt/OneDrive/Desktop/whisper-main/DS_Live_Oct/Lec18/file.txt', 'r')"
   ]
  },
  {
   "cell_type": "code",
   "execution_count": 34,
   "id": "047127e4",
   "metadata": {},
   "outputs": [
    {
     "name": "stdout",
     "output_type": "stream",
     "text": [
      "ame is Abh\n"
     ]
    }
   ],
   "source": [
    "content = file.read(10)\n",
    "print(content)"
   ]
  },
  {
   "cell_type": "code",
   "execution_count": 35,
   "id": "d68cb855",
   "metadata": {},
   "outputs": [],
   "source": [
    "file.close()"
   ]
  },
  {
   "cell_type": "code",
   "execution_count": 49,
   "id": "bbb84c16",
   "metadata": {},
   "outputs": [],
   "source": [
    "file = open('C:/Users/bhatt/OneDrive/Desktop/whisper-main/DS_Live_Oct/Lec18/file.txt', 'r')"
   ]
  },
  {
   "cell_type": "code",
   "execution_count": 50,
   "id": "a04e86aa",
   "metadata": {},
   "outputs": [
    {
     "name": "stdout",
     "output_type": "stream",
     "text": [
      "Good Morning!\n",
      "\n"
     ]
    }
   ],
   "source": [
    "print(file.readline())"
   ]
  },
  {
   "cell_type": "code",
   "execution_count": 51,
   "id": "2ebe9299",
   "metadata": {},
   "outputs": [
    {
     "data": {
      "text/plain": [
       "'Hello World\\n'"
      ]
     },
     "execution_count": 51,
     "metadata": {},
     "output_type": "execute_result"
    }
   ],
   "source": [
    "file.readline()"
   ]
  },
  {
   "cell_type": "code",
   "execution_count": 52,
   "id": "246750b0",
   "metadata": {},
   "outputs": [],
   "source": [
    "file.close()"
   ]
  },
  {
   "cell_type": "code",
   "execution_count": 86,
   "id": "90c3a21e",
   "metadata": {},
   "outputs": [],
   "source": [
    "file = open('C:/Users/bhatt/OneDrive/Desktop/whisper-main/DS_Live_Oct/Lec18/file.txt', 'r')"
   ]
  },
  {
   "cell_type": "code",
   "execution_count": 90,
   "id": "812b427f",
   "metadata": {},
   "outputs": [
    {
     "name": "stdout",
     "output_type": "stream",
     "text": [
      "['ng!\\n', 'Hello World\\n', 'My name is Abhijeet.']\n"
     ]
    },
    {
     "data": {
      "text/plain": [
       "10"
      ]
     },
     "execution_count": 90,
     "metadata": {},
     "output_type": "execute_result"
    }
   ],
   "source": [
    "print(file.readlines())\n",
    "file.seek(10)"
   ]
  },
  {
   "cell_type": "code",
   "execution_count": 91,
   "id": "f5ddead7",
   "metadata": {},
   "outputs": [],
   "source": [
    "file.close()"
   ]
  },
  {
   "cell_type": "code",
   "execution_count": null,
   "id": "290b7f6f",
   "metadata": {},
   "outputs": [],
   "source": []
  }
 ],
 "metadata": {
  "kernelspec": {
   "display_name": "Python 3 (ipykernel)",
   "language": "python",
   "name": "python3"
  },
  "language_info": {
   "codemirror_mode": {
    "name": "ipython",
    "version": 3
   },
   "file_extension": ".py",
   "mimetype": "text/x-python",
   "name": "python",
   "nbconvert_exporter": "python",
   "pygments_lexer": "ipython3",
   "version": "3.8.10"
  }
 },
 "nbformat": 4,
 "nbformat_minor": 5
}
