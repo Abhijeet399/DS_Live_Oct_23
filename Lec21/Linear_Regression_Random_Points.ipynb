{
 "cells": [
  {
   "cell_type": "code",
   "execution_count": 7,
   "id": "2b211825",
   "metadata": {},
   "outputs": [],
   "source": [
    "import random\n",
    "import numpy as np\n",
    "import matplotlib.pyplot as plt"
   ]
  },
  {
   "cell_type": "code",
   "execution_count": 2,
   "id": "f0ef1500",
   "metadata": {},
   "outputs": [],
   "source": [
    "X_axis = random.sample(range(0, 100000), 100)"
   ]
  },
  {
   "cell_type": "code",
   "execution_count": 4,
   "id": "e7a96256",
   "metadata": {
    "scrolled": true
   },
   "outputs": [
    {
     "data": {
      "text/plain": [
       "[49049,\n",
       " 66396,\n",
       " 31980,\n",
       " 50089,\n",
       " 24377,\n",
       " 74857,\n",
       " 62955,\n",
       " 74559,\n",
       " 81398,\n",
       " 82988,\n",
       " 20514,\n",
       " 20243,\n",
       " 22876,\n",
       " 67233,\n",
       " 42053,\n",
       " 75003,\n",
       " 96017,\n",
       " 23194,\n",
       " 2147,\n",
       " 12931,\n",
       " 92370,\n",
       " 83091,\n",
       " 57367,\n",
       " 29867,\n",
       " 14903,\n",
       " 49503,\n",
       " 16826,\n",
       " 95726,\n",
       " 21532,\n",
       " 11468,\n",
       " 35303,\n",
       " 35525,\n",
       " 18126,\n",
       " 49412,\n",
       " 14740,\n",
       " 19004,\n",
       " 41238,\n",
       " 1190,\n",
       " 2282,\n",
       " 96747,\n",
       " 22989,\n",
       " 7575,\n",
       " 98700,\n",
       " 1731,\n",
       " 71536,\n",
       " 44817,\n",
       " 70533,\n",
       " 25594,\n",
       " 11713,\n",
       " 40830,\n",
       " 49520,\n",
       " 51989,\n",
       " 65487,\n",
       " 74107,\n",
       " 96552,\n",
       " 44431,\n",
       " 19502,\n",
       " 83329,\n",
       " 2632,\n",
       " 46851,\n",
       " 73646,\n",
       " 84706,\n",
       " 90840,\n",
       " 25993,\n",
       " 67123,\n",
       " 79456,\n",
       " 87032,\n",
       " 94348,\n",
       " 96839,\n",
       " 31901,\n",
       " 2657,\n",
       " 4922,\n",
       " 12695,\n",
       " 8295,\n",
       " 98304,\n",
       " 28602,\n",
       " 78511,\n",
       " 42433,\n",
       " 43352,\n",
       " 39709,\n",
       " 84665,\n",
       " 61321,\n",
       " 49612,\n",
       " 42520,\n",
       " 46347,\n",
       " 53984,\n",
       " 62373,\n",
       " 955,\n",
       " 32718,\n",
       " 24057,\n",
       " 90935,\n",
       " 74426,\n",
       " 41961,\n",
       " 97396,\n",
       " 39470,\n",
       " 21993,\n",
       " 14461,\n",
       " 42135,\n",
       " 26692,\n",
       " 57270]"
      ]
     },
     "execution_count": 4,
     "metadata": {},
     "output_type": "execute_result"
    }
   ],
   "source": [
    "X_axis"
   ]
  },
  {
   "cell_type": "code",
   "execution_count": 8,
   "id": "f3aaafc2",
   "metadata": {},
   "outputs": [],
   "source": [
    "X_axis = np.array(X_axis)"
   ]
  },
  {
   "cell_type": "code",
   "execution_count": 9,
   "id": "4a0c2706",
   "metadata": {},
   "outputs": [],
   "source": [
    "u = X_axis.mean()\n",
    "std = X_axis.std()"
   ]
  },
  {
   "cell_type": "code",
   "execution_count": 10,
   "id": "ed954fe7",
   "metadata": {},
   "outputs": [],
   "source": [
    "X_axis = (X_axis - u)/std"
   ]
  },
  {
   "cell_type": "code",
   "execution_count": 11,
   "id": "10c917f4",
   "metadata": {},
   "outputs": [],
   "source": [
    "Y_axis = []\n",
    "for i in X_axis:\n",
    "    Y_axis.append(2 * i + 100)"
   ]
  },
  {
   "cell_type": "code",
   "execution_count": 12,
   "id": "ca0a041d",
   "metadata": {
    "scrolled": true
   },
   "outputs": [
    {
     "data": {
      "text/plain": [
       "[100.10226546044493,\n",
       " 101.27906312431988,\n",
       " 98.94432695092274,\n",
       " 100.17281769255595,\n",
       " 98.42854943098031,\n",
       " 101.8530462357539,\n",
       " 101.04563021019099,\n",
       " 101.8328303077067,\n",
       " 102.2967790725214,\n",
       " 102.40464258122961,\n",
       " 98.1664885918987,\n",
       " 98.14810430833899,\n",
       " 98.32672356521239,\n",
       " 101.33584410343231,\n",
       " 99.62766602212885,\n",
       " 101.86295068372333,\n",
       " 103.28851280447435,\n",
       " 98.34829626695402,\n",
       " 96.92049546960716,\n",
       " 97.6520678456507,\n",
       " 103.04110512129272,\n",
       " 102.41162996575599,\n",
       " 100.66654763996368,\n",
       " 98.80098381010485,\n",
       " 97.78584573192278,\n",
       " 100.13306422330878,\n",
       " 97.91629952264344,\n",
       " 103.26877174722021,\n",
       " 98.23554837294583,\n",
       " 97.55281984990222,\n",
       " 99.1697549002544,\n",
       " 99.18481508826272,\n",
       " 98.00448981278223,\n",
       " 100.12689090299907,\n",
       " 97.77478802631306,\n",
       " 98.06405217796826,\n",
       " 99.5723774940803,\n",
       " 96.85557384832808,\n",
       " 96.92965369204465,\n",
       " 103.33803504432151,\n",
       " 98.33438933658599,\n",
       " 97.28872385027894,\n",
       " 103.47052399558386,\n",
       " 96.89227457676276,\n",
       " 101.62775396379168,\n",
       " 99.81517214670083,\n",
       " 101.55971176301537,\n",
       " 98.51110911028717,\n",
       " 97.56944032765915,\n",
       " 99.54469931071367,\n",
       " 100.13421748094906,\n",
       " 100.30171119352802,\n",
       " 101.21739775990746,\n",
       " 101.80216722221229,\n",
       " 103.3248065008007,\n",
       " 99.7889864143981,\n",
       " 98.09783584295988,\n",
       " 102.42777557271985,\n",
       " 96.95339723169741,\n",
       " 99.95315603142566,\n",
       " 101.77089358855538,\n",
       " 102.52118944158224,\n",
       " 102.93731193366784,\n",
       " 98.5381767454913,\n",
       " 101.32838184811287,\n",
       " 102.16503634679101,\n",
       " 102.67898222224593,\n",
       " 103.1752900396731,\n",
       " 103.34427620331596,\n",
       " 98.93896769482969,\n",
       " 96.95509319881546,\n",
       " 97.1087478197111,\n",
       " 97.63605791605629,\n",
       " 97.33756770327888,\n",
       " 103.44365987643388,\n",
       " 98.71516787393135,\n",
       " 102.10092878972858,\n",
       " 99.65344472232326,\n",
       " 99.7157884735829,\n",
       " 99.46865214514015,\n",
       " 102.51840805550863,\n",
       " 100.93478179935502,\n",
       " 100.14045863994349,\n",
       " 99.65934668789409,\n",
       " 99.9189653343257,\n",
       " 100.43704936954869,\n",
       " 101.0061480956827,\n",
       " 96.83963175741837,\n",
       " 98.99439190024768,\n",
       " 98.40684105186924,\n",
       " 102.94375660871644,\n",
       " 101.82380776263865,\n",
       " 99.62142486313441,\n",
       " 103.38206235070619,\n",
       " 99.45243869949157,\n",
       " 98.26682200660274,\n",
       " 97.75586103327558,\n",
       " 99.63322879427606,\n",
       " 98.58559598611207,\n",
       " 100.65996728754564]"
      ]
     },
     "execution_count": 12,
     "metadata": {},
     "output_type": "execute_result"
    }
   ],
   "source": [
    "Y_axis"
   ]
  },
  {
   "cell_type": "code",
   "execution_count": 13,
   "id": "557022b3",
   "metadata": {},
   "outputs": [
    {
     "data": {
      "text/plain": [
       "[<matplotlib.lines.Line2D at 0x18edd1902b0>]"
      ]
     },
     "execution_count": 13,
     "metadata": {},
     "output_type": "execute_result"
    },
    {
     "data": {
      "image/png": "[encoded data removed]",
      "text/plain": [
       "<Figure size 640x480 with 1 Axes>"
      ]
     },
     "metadata": {},
     "output_type": "display_data"
    }
   ],
   "source": [
    "plt.plot(X_axis, Y_axis)"
   ]
  },
  {
   "cell_type": "code",
   "execution_count": 14,
   "id": "7933fb9f",
   "metadata": {},
   "outputs": [],
   "source": [
    "Y_axis = np.array(Y_axis)"
   ]
  },
  {
   "cell_type": "code",
   "execution_count": 15,
   "id": "ed27eb92",
   "metadata": {},
   "outputs": [],
   "source": [
    "X_train = X_axis[:80]\n",
    "X_test = X_axis[80:]\n",
    "Y_train = Y_axis[:80]\n",
    "Y_test = Y_axis[80:]"
   ]
  },
  {
   "cell_type": "code",
   "execution_count": 16,
   "id": "bafdb21a",
   "metadata": {},
   "outputs": [
    {
     "name": "stdout",
     "output_type": "stream",
     "text": [
      "(80,) (20,) (20,) (80,)\n"
     ]
    }
   ],
   "source": [
    "print(X_train.shape, X_test.shape, Y_test.shape, Y_train.shape)"
   ]
  },
  {
   "cell_type": "code",
   "execution_count": 18,
   "id": "05cd78d4",
   "metadata": {},
   "outputs": [],
   "source": [
    "def hypothesis(X, weight):\n",
    "    pred = weight[0] + weight[1] * X\n",
    "    return pred"
   ]
  },
  {
   "cell_type": "code",
   "execution_count": null,
   "id": "bdeb3ee5",
   "metadata": {},
   "outputs": [],
   "source": [
    "def loss_function(X, Y, weight):\n",
    "    for i in range(X.shape[0]):\n",
    "        y_pred = hypothesis(X)"
   ]
  },
  {
   "cell_type": "code",
   "execution_count": null,
   "id": "487bb2c4",
   "metadata": {},
   "outputs": [],
   "source": []
  }
 ],
 "metadata": {
  "kernelspec": {
   "display_name": "Python 3 (ipykernel)",
   "language": "python",
   "name": "python3"
  },
  "language_info": {
   "codemirror_mode": {
    "name": "ipython",
    "version": 3
   },
   "file_extension": ".py",
   "mimetype": "text/x-python",
   "name": "python",
   "nbconvert_exporter": "python",
   "pygments_lexer": "ipython3",
   "version": "3.8.10"
  }
 },
 "nbformat": 4,
 "nbformat_minor": 5
}
